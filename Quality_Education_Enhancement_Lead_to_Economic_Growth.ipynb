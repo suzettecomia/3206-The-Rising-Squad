{
  "nbformat": 4,
  "nbformat_minor": 0,
  "metadata": {
    "colab": {
      "name": "Quality Education Enhancement Lead to Economic Growth.ipynb",
      "provenance": [],
      "collapsed_sections": [],
      "include_colab_link": true
    },
    "kernelspec": {
      "name": "python3",
      "display_name": "Python 3"
    },
    "language_info": {
      "name": "python"
    }
  },
  "cells": [
    {
      "cell_type": "markdown",
      "metadata": {
        "id": "view-in-github",
        "colab_type": "text"
      },
      "source": [
        "<a href=\"https://colab.research.google.com/github/suzettecomia/ITBA3206-The-Rising-Squad/blob/main/Quality_Education_Enhancement_Lead_to_Economic_Growth.ipynb\" target=\"_parent\"><img src=\"https://colab.research.google.com/assets/colab-badge.svg\" alt=\"Open In Colab\"/></a>"
      ]
    },
    {
      "cell_type": "markdown",
      "source": [
        "**Quality Education Enhancement Lead to Economic Growth**"
      ],
      "metadata": {
        "id": "E8a3rWolUroi"
      }
    },
    {
      "cell_type": "code",
      "execution_count": null,
      "metadata": {
        "id": "ydjnH13UUgTf"
      },
      "outputs": [],
      "source": [
        "import numpy as np\n",
        "import pandas as pd\n",
        "from google.colab import files\n",
        "import io\n",
        "import matplotlib.pyplot as plt\n",
        "from google.colab import data_table"
      ]
    },
    {
      "cell_type": "markdown",
      "source": [
        "**Datasets of Education**"
      ],
      "metadata": {
        "id": "7ZORUcIP4qT_"
      }
    },
    {
      "cell_type": "code",
      "source": [
        "urldataset1 = 'https://raw.githubusercontent.com/suzettecomia/ITBA3206-The-Rising-Squad/main/Datasets/Datasets_Education_Updated.csv'"
      ],
      "metadata": {
        "id": "-ZHyL4T8bhIu"
      },
      "execution_count": null,
      "outputs": []
    },
    {
      "cell_type": "code",
      "source": [
        "dataset1 = pd.read_csv(urldataset1,encoding='latin-1')"
      ],
      "metadata": {
        "id": "osB5Lmjcbi22"
      },
      "execution_count": null,
      "outputs": []
    },
    {
      "cell_type": "code",
      "source": [
        "dataset1.head(400)"
      ],
      "metadata": {
        "colab": {
          "base_uri": "https://localhost:8080/",
          "height": 1000
        },
        "id": "JUn871gmbl_3",
        "outputId": "1aaa2311-a75b-40da-be05-158bcf24bf1d"
      },
      "execution_count": null,
      "outputs": [
        {
          "output_type": "execute_result",
          "data": {
            "text/plain": [
              "    Region/Country/Area  Year  \\\n",
              "0    South-eastern Asia  2005   \n",
              "1    South-eastern Asia  2005   \n",
              "2    South-eastern Asia  2005   \n",
              "3    South-eastern Asia  2005   \n",
              "4    South-eastern Asia  2005   \n",
              "..                  ...   ...   \n",
              "393         Timor-Leste  2019   \n",
              "394         Timor-Leste  2019   \n",
              "395         Timor-Leste  2019   \n",
              "396         Timor-Leste  2019   \n",
              "397         Timor-Leste  2019   \n",
              "\n",
              "                                                Series   Value Footnotes  \\\n",
              "0    Students enrolled in primary education (thousa...  68,253       NaN   \n",
              "1              Gross enrollment ratio - Primary (male)   106.8       NaN   \n",
              "2            Gross enrollment ratio - Primary (female)   103.8       NaN   \n",
              "3    Students enrolled in secondary education (thou...  40,815       NaN   \n",
              "4            Gross enrollment ratio - Secondary (male)    62.6       NaN   \n",
              "..                                                 ...     ...       ...   \n",
              "393          Gross enrollment ratio - Secondary (male)    82.7       NaN   \n",
              "394        Gross enrollment ratio - Secondary (female)    90.5       NaN   \n",
              "395  Students enrolled in upper secondary education...      72       NaN   \n",
              "396  Gross enrollment ratio - Upper secondary level...    71.9       NaN   \n",
              "397  Gross enrollment ratio - Upper secondary level...    81.5       NaN   \n",
              "\n",
              "                                                Source  \n",
              "0    United Nations Educational, Scientific and Cul...  \n",
              "1    United Nations Educational, Scientific and Cul...  \n",
              "2    United Nations Educational, Scientific and Cul...  \n",
              "3    United Nations Educational, Scientific and Cul...  \n",
              "4    United Nations Educational, Scientific and Cul...  \n",
              "..                                                 ...  \n",
              "393  United Nations Educational, Scientific and Cul...  \n",
              "394  United Nations Educational, Scientific and Cul...  \n",
              "395  United Nations Educational, Scientific and Cul...  \n",
              "396  United Nations Educational, Scientific and Cul...  \n",
              "397  United Nations Educational, Scientific and Cul...  \n",
              "\n",
              "[398 rows x 6 columns]"
            ],
            "text/html": [
              "\n",
              "  <div id=\"df-3e5c9a86-6393-4d0d-97fc-c601c2b413dd\">\n",
              "    <div class=\"colab-df-container\">\n",
              "      <div>\n",
              "<style scoped>\n",
              "    .dataframe tbody tr th:only-of-type {\n",
              "        vertical-align: middle;\n",
              "    }\n",
              "\n",
              "    .dataframe tbody tr th {\n",
              "        vertical-align: top;\n",
              "    }\n",
              "\n",
              "    .dataframe thead th {\n",
              "        text-align: right;\n",
              "    }\n",
              "</style>\n",
              "<table border=\"1\" class=\"dataframe\">\n",
              "  <thead>\n",
              "    <tr style=\"text-align: right;\">\n",
              "      <th></th>\n",
              "      <th>Region/Country/Area</th>\n",
              "      <th>Year</th>\n",
              "      <th>Series</th>\n",
              "      <th>Value</th>\n",
              "      <th>Footnotes</th>\n",
              "      <th>Source</th>\n",
              "    </tr>\n",
              "  </thead>\n",
              "  <tbody>\n",
              "    <tr>\n",
              "      <th>0</th>\n",
              "      <td>South-eastern Asia</td>\n",
              "      <td>2005</td>\n",
              "      <td>Students enrolled in primary education (thousa...</td>\n",
              "      <td>68,253</td>\n",
              "      <td>NaN</td>\n",
              "      <td>United Nations Educational, Scientific and Cul...</td>\n",
              "    </tr>\n",
              "    <tr>\n",
              "      <th>1</th>\n",
              "      <td>South-eastern Asia</td>\n",
              "      <td>2005</td>\n",
              "      <td>Gross enrollment ratio - Primary (male)</td>\n",
              "      <td>106.8</td>\n",
              "      <td>NaN</td>\n",
              "      <td>United Nations Educational, Scientific and Cul...</td>\n",
              "    </tr>\n",
              "    <tr>\n",
              "      <th>2</th>\n",
              "      <td>South-eastern Asia</td>\n",
              "      <td>2005</td>\n",
              "      <td>Gross enrollment ratio - Primary (female)</td>\n",
              "      <td>103.8</td>\n",
              "      <td>NaN</td>\n",
              "      <td>United Nations Educational, Scientific and Cul...</td>\n",
              "    </tr>\n",
              "    <tr>\n",
              "      <th>3</th>\n",
              "      <td>South-eastern Asia</td>\n",
              "      <td>2005</td>\n",
              "      <td>Students enrolled in secondary education (thou...</td>\n",
              "      <td>40,815</td>\n",
              "      <td>NaN</td>\n",
              "      <td>United Nations Educational, Scientific and Cul...</td>\n",
              "    </tr>\n",
              "    <tr>\n",
              "      <th>4</th>\n",
              "      <td>South-eastern Asia</td>\n",
              "      <td>2005</td>\n",
              "      <td>Gross enrollment ratio - Secondary (male)</td>\n",
              "      <td>62.6</td>\n",
              "      <td>NaN</td>\n",
              "      <td>United Nations Educational, Scientific and Cul...</td>\n",
              "    </tr>\n",
              "    <tr>\n",
              "      <th>...</th>\n",
              "      <td>...</td>\n",
              "      <td>...</td>\n",
              "      <td>...</td>\n",
              "      <td>...</td>\n",
              "      <td>...</td>\n",
              "      <td>...</td>\n",
              "    </tr>\n",
              "    <tr>\n",
              "      <th>393</th>\n",
              "      <td>Timor-Leste</td>\n",
              "      <td>2019</td>\n",
              "      <td>Gross enrollment ratio - Secondary (male)</td>\n",
              "      <td>82.7</td>\n",
              "      <td>NaN</td>\n",
              "      <td>United Nations Educational, Scientific and Cul...</td>\n",
              "    </tr>\n",
              "    <tr>\n",
              "      <th>394</th>\n",
              "      <td>Timor-Leste</td>\n",
              "      <td>2019</td>\n",
              "      <td>Gross enrollment ratio - Secondary (female)</td>\n",
              "      <td>90.5</td>\n",
              "      <td>NaN</td>\n",
              "      <td>United Nations Educational, Scientific and Cul...</td>\n",
              "    </tr>\n",
              "    <tr>\n",
              "      <th>395</th>\n",
              "      <td>Timor-Leste</td>\n",
              "      <td>2019</td>\n",
              "      <td>Students enrolled in upper secondary education...</td>\n",
              "      <td>72</td>\n",
              "      <td>NaN</td>\n",
              "      <td>United Nations Educational, Scientific and Cul...</td>\n",
              "    </tr>\n",
              "    <tr>\n",
              "      <th>396</th>\n",
              "      <td>Timor-Leste</td>\n",
              "      <td>2019</td>\n",
              "      <td>Gross enrollment ratio - Upper secondary level...</td>\n",
              "      <td>71.9</td>\n",
              "      <td>NaN</td>\n",
              "      <td>United Nations Educational, Scientific and Cul...</td>\n",
              "    </tr>\n",
              "    <tr>\n",
              "      <th>397</th>\n",
              "      <td>Timor-Leste</td>\n",
              "      <td>2019</td>\n",
              "      <td>Gross enrollment ratio - Upper secondary level...</td>\n",
              "      <td>81.5</td>\n",
              "      <td>NaN</td>\n",
              "      <td>United Nations Educational, Scientific and Cul...</td>\n",
              "    </tr>\n",
              "  </tbody>\n",
              "</table>\n",
              "<p>398 rows × 6 columns</p>\n",
              "</div>\n",
              "      <button class=\"colab-df-convert\" onclick=\"convertToInteractive('df-3e5c9a86-6393-4d0d-97fc-c601c2b413dd')\"\n",
              "              title=\"Convert this dataframe to an interactive table.\"\n",
              "              style=\"display:none;\">\n",
              "        \n",
              "  <svg xmlns=\"http://www.w3.org/2000/svg\" height=\"24px\"viewBox=\"0 0 24 24\"\n",
              "       width=\"24px\">\n",
              "    <path d=\"M0 0h24v24H0V0z\" fill=\"none\"/>\n",
              "    <path d=\"M18.56 5.44l.94 2.06.94-2.06 2.06-.94-2.06-.94-.94-2.06-.94 2.06-2.06.94zm-11 1L8.5 8.5l.94-2.06 2.06-.94-2.06-.94L8.5 2.5l-.94 2.06-2.06.94zm10 10l.94 2.06.94-2.06 2.06-.94-2.06-.94-.94-2.06-.94 2.06-2.06.94z\"/><path d=\"M17.41 7.96l-1.37-1.37c-.4-.4-.92-.59-1.43-.59-.52 0-1.04.2-1.43.59L10.3 9.45l-7.72 7.72c-.78.78-.78 2.05 0 2.83L4 21.41c.39.39.9.59 1.41.59.51 0 1.02-.2 1.41-.59l7.78-7.78 2.81-2.81c.8-.78.8-2.07 0-2.86zM5.41 20L4 18.59l7.72-7.72 1.47 1.35L5.41 20z\"/>\n",
              "  </svg>\n",
              "      </button>\n",
              "      \n",
              "  <style>\n",
              "    .colab-df-container {\n",
              "      display:flex;\n",
              "      flex-wrap:wrap;\n",
              "      gap: 12px;\n",
              "    }\n",
              "\n",
              "    .colab-df-convert {\n",
              "      background-color: #E8F0FE;\n",
              "      border: none;\n",
              "      border-radius: 50%;\n",
              "      cursor: pointer;\n",
              "      display: none;\n",
              "      fill: #1967D2;\n",
              "      height: 32px;\n",
              "      padding: 0 0 0 0;\n",
              "      width: 32px;\n",
              "    }\n",
              "\n",
              "    .colab-df-convert:hover {\n",
              "      background-color: #E2EBFA;\n",
              "      box-shadow: 0px 1px 2px rgba(60, 64, 67, 0.3), 0px 1px 3px 1px rgba(60, 64, 67, 0.15);\n",
              "      fill: #174EA6;\n",
              "    }\n",
              "\n",
              "    [theme=dark] .colab-df-convert {\n",
              "      background-color: #3B4455;\n",
              "      fill: #D2E3FC;\n",
              "    }\n",
              "\n",
              "    [theme=dark] .colab-df-convert:hover {\n",
              "      background-color: #434B5C;\n",
              "      box-shadow: 0px 1px 3px 1px rgba(0, 0, 0, 0.15);\n",
              "      filter: drop-shadow(0px 1px 2px rgba(0, 0, 0, 0.3));\n",
              "      fill: #FFFFFF;\n",
              "    }\n",
              "  </style>\n",
              "\n",
              "      <script>\n",
              "        const buttonEl =\n",
              "          document.querySelector('#df-3e5c9a86-6393-4d0d-97fc-c601c2b413dd button.colab-df-convert');\n",
              "        buttonEl.style.display =\n",
              "          google.colab.kernel.accessAllowed ? 'block' : 'none';\n",
              "\n",
              "        async function convertToInteractive(key) {\n",
              "          const element = document.querySelector('#df-3e5c9a86-6393-4d0d-97fc-c601c2b413dd');\n",
              "          const dataTable =\n",
              "            await google.colab.kernel.invokeFunction('convertToInteractive',\n",
              "                                                     [key], {});\n",
              "          if (!dataTable) return;\n",
              "\n",
              "          const docLinkHtml = 'Like what you see? Visit the ' +\n",
              "            '<a target=\"_blank\" href=https://colab.research.google.com/notebooks/data_table.ipynb>data table notebook</a>'\n",
              "            + ' to learn more about interactive tables.';\n",
              "          element.innerHTML = '';\n",
              "          dataTable['output_type'] = 'display_data';\n",
              "          await google.colab.output.renderOutput(dataTable, element);\n",
              "          const docLink = document.createElement('div');\n",
              "          docLink.innerHTML = docLinkHtml;\n",
              "          element.appendChild(docLink);\n",
              "        }\n",
              "      </script>\n",
              "    </div>\n",
              "  </div>\n",
              "  "
            ]
          },
          "metadata": {},
          "execution_count": 5
        }
      ]
    },
    {
      "cell_type": "markdown",
      "source": [
        "**Data Cleaning**\n",
        "\n"
      ],
      "metadata": {
        "id": "EyDgb2cwQDdf"
      }
    },
    {
      "cell_type": "markdown",
      "source": [
        "> Dropping unnecessary columns"
      ],
      "metadata": {
        "id": "y-X1geKkerFf"
      }
    },
    {
      "cell_type": "code",
      "source": [
        "dataset1.drop(['Footnotes', 'Source'], axis = 1, inplace=True)\n",
        "dataset1.head(400)"
      ],
      "metadata": {
        "colab": {
          "base_uri": "https://localhost:8080/",
          "height": 1000
        },
        "id": "c-UsA0T1bpW1",
        "outputId": "f0335e7e-f38a-4833-8bbe-7004f1c0c202"
      },
      "execution_count": null,
      "outputs": [
        {
          "output_type": "execute_result",
          "data": {
            "text/plain": [
              "    Region/Country/Area  Year  \\\n",
              "0    South-eastern Asia  2005   \n",
              "1    South-eastern Asia  2005   \n",
              "2    South-eastern Asia  2005   \n",
              "3    South-eastern Asia  2005   \n",
              "4    South-eastern Asia  2005   \n",
              "..                  ...   ...   \n",
              "393         Timor-Leste  2019   \n",
              "394         Timor-Leste  2019   \n",
              "395         Timor-Leste  2019   \n",
              "396         Timor-Leste  2019   \n",
              "397         Timor-Leste  2019   \n",
              "\n",
              "                                                Series   Value  \n",
              "0    Students enrolled in primary education (thousa...  68,253  \n",
              "1              Gross enrollment ratio - Primary (male)   106.8  \n",
              "2            Gross enrollment ratio - Primary (female)   103.8  \n",
              "3    Students enrolled in secondary education (thou...  40,815  \n",
              "4            Gross enrollment ratio - Secondary (male)    62.6  \n",
              "..                                                 ...     ...  \n",
              "393          Gross enrollment ratio - Secondary (male)    82.7  \n",
              "394        Gross enrollment ratio - Secondary (female)    90.5  \n",
              "395  Students enrolled in upper secondary education...      72  \n",
              "396  Gross enrollment ratio - Upper secondary level...    71.9  \n",
              "397  Gross enrollment ratio - Upper secondary level...    81.5  \n",
              "\n",
              "[398 rows x 4 columns]"
            ],
            "text/html": [
              "\n",
              "  <div id=\"df-526793be-68eb-4ebe-97e8-aea6d7d7c317\">\n",
              "    <div class=\"colab-df-container\">\n",
              "      <div>\n",
              "<style scoped>\n",
              "    .dataframe tbody tr th:only-of-type {\n",
              "        vertical-align: middle;\n",
              "    }\n",
              "\n",
              "    .dataframe tbody tr th {\n",
              "        vertical-align: top;\n",
              "    }\n",
              "\n",
              "    .dataframe thead th {\n",
              "        text-align: right;\n",
              "    }\n",
              "</style>\n",
              "<table border=\"1\" class=\"dataframe\">\n",
              "  <thead>\n",
              "    <tr style=\"text-align: right;\">\n",
              "      <th></th>\n",
              "      <th>Region/Country/Area</th>\n",
              "      <th>Year</th>\n",
              "      <th>Series</th>\n",
              "      <th>Value</th>\n",
              "    </tr>\n",
              "  </thead>\n",
              "  <tbody>\n",
              "    <tr>\n",
              "      <th>0</th>\n",
              "      <td>South-eastern Asia</td>\n",
              "      <td>2005</td>\n",
              "      <td>Students enrolled in primary education (thousa...</td>\n",
              "      <td>68,253</td>\n",
              "    </tr>\n",
              "    <tr>\n",
              "      <th>1</th>\n",
              "      <td>South-eastern Asia</td>\n",
              "      <td>2005</td>\n",
              "      <td>Gross enrollment ratio - Primary (male)</td>\n",
              "      <td>106.8</td>\n",
              "    </tr>\n",
              "    <tr>\n",
              "      <th>2</th>\n",
              "      <td>South-eastern Asia</td>\n",
              "      <td>2005</td>\n",
              "      <td>Gross enrollment ratio - Primary (female)</td>\n",
              "      <td>103.8</td>\n",
              "    </tr>\n",
              "    <tr>\n",
              "      <th>3</th>\n",
              "      <td>South-eastern Asia</td>\n",
              "      <td>2005</td>\n",
              "      <td>Students enrolled in secondary education (thou...</td>\n",
              "      <td>40,815</td>\n",
              "    </tr>\n",
              "    <tr>\n",
              "      <th>4</th>\n",
              "      <td>South-eastern Asia</td>\n",
              "      <td>2005</td>\n",
              "      <td>Gross enrollment ratio - Secondary (male)</td>\n",
              "      <td>62.6</td>\n",
              "    </tr>\n",
              "    <tr>\n",
              "      <th>...</th>\n",
              "      <td>...</td>\n",
              "      <td>...</td>\n",
              "      <td>...</td>\n",
              "      <td>...</td>\n",
              "    </tr>\n",
              "    <tr>\n",
              "      <th>393</th>\n",
              "      <td>Timor-Leste</td>\n",
              "      <td>2019</td>\n",
              "      <td>Gross enrollment ratio - Secondary (male)</td>\n",
              "      <td>82.7</td>\n",
              "    </tr>\n",
              "    <tr>\n",
              "      <th>394</th>\n",
              "      <td>Timor-Leste</td>\n",
              "      <td>2019</td>\n",
              "      <td>Gross enrollment ratio - Secondary (female)</td>\n",
              "      <td>90.5</td>\n",
              "    </tr>\n",
              "    <tr>\n",
              "      <th>395</th>\n",
              "      <td>Timor-Leste</td>\n",
              "      <td>2019</td>\n",
              "      <td>Students enrolled in upper secondary education...</td>\n",
              "      <td>72</td>\n",
              "    </tr>\n",
              "    <tr>\n",
              "      <th>396</th>\n",
              "      <td>Timor-Leste</td>\n",
              "      <td>2019</td>\n",
              "      <td>Gross enrollment ratio - Upper secondary level...</td>\n",
              "      <td>71.9</td>\n",
              "    </tr>\n",
              "    <tr>\n",
              "      <th>397</th>\n",
              "      <td>Timor-Leste</td>\n",
              "      <td>2019</td>\n",
              "      <td>Gross enrollment ratio - Upper secondary level...</td>\n",
              "      <td>81.5</td>\n",
              "    </tr>\n",
              "  </tbody>\n",
              "</table>\n",
              "<p>398 rows × 4 columns</p>\n",
              "</div>\n",
              "      <button class=\"colab-df-convert\" onclick=\"convertToInteractive('df-526793be-68eb-4ebe-97e8-aea6d7d7c317')\"\n",
              "              title=\"Convert this dataframe to an interactive table.\"\n",
              "              style=\"display:none;\">\n",
              "        \n",
              "  <svg xmlns=\"http://www.w3.org/2000/svg\" height=\"24px\"viewBox=\"0 0 24 24\"\n",
              "       width=\"24px\">\n",
              "    <path d=\"M0 0h24v24H0V0z\" fill=\"none\"/>\n",
              "    <path d=\"M18.56 5.44l.94 2.06.94-2.06 2.06-.94-2.06-.94-.94-2.06-.94 2.06-2.06.94zm-11 1L8.5 8.5l.94-2.06 2.06-.94-2.06-.94L8.5 2.5l-.94 2.06-2.06.94zm10 10l.94 2.06.94-2.06 2.06-.94-2.06-.94-.94-2.06-.94 2.06-2.06.94z\"/><path d=\"M17.41 7.96l-1.37-1.37c-.4-.4-.92-.59-1.43-.59-.52 0-1.04.2-1.43.59L10.3 9.45l-7.72 7.72c-.78.78-.78 2.05 0 2.83L4 21.41c.39.39.9.59 1.41.59.51 0 1.02-.2 1.41-.59l7.78-7.78 2.81-2.81c.8-.78.8-2.07 0-2.86zM5.41 20L4 18.59l7.72-7.72 1.47 1.35L5.41 20z\"/>\n",
              "  </svg>\n",
              "      </button>\n",
              "      \n",
              "  <style>\n",
              "    .colab-df-container {\n",
              "      display:flex;\n",
              "      flex-wrap:wrap;\n",
              "      gap: 12px;\n",
              "    }\n",
              "\n",
              "    .colab-df-convert {\n",
              "      background-color: #E8F0FE;\n",
              "      border: none;\n",
              "      border-radius: 50%;\n",
              "      cursor: pointer;\n",
              "      display: none;\n",
              "      fill: #1967D2;\n",
              "      height: 32px;\n",
              "      padding: 0 0 0 0;\n",
              "      width: 32px;\n",
              "    }\n",
              "\n",
              "    .colab-df-convert:hover {\n",
              "      background-color: #E2EBFA;\n",
              "      box-shadow: 0px 1px 2px rgba(60, 64, 67, 0.3), 0px 1px 3px 1px rgba(60, 64, 67, 0.15);\n",
              "      fill: #174EA6;\n",
              "    }\n",
              "\n",
              "    [theme=dark] .colab-df-convert {\n",
              "      background-color: #3B4455;\n",
              "      fill: #D2E3FC;\n",
              "    }\n",
              "\n",
              "    [theme=dark] .colab-df-convert:hover {\n",
              "      background-color: #434B5C;\n",
              "      box-shadow: 0px 1px 3px 1px rgba(0, 0, 0, 0.15);\n",
              "      filter: drop-shadow(0px 1px 2px rgba(0, 0, 0, 0.3));\n",
              "      fill: #FFFFFF;\n",
              "    }\n",
              "  </style>\n",
              "\n",
              "      <script>\n",
              "        const buttonEl =\n",
              "          document.querySelector('#df-526793be-68eb-4ebe-97e8-aea6d7d7c317 button.colab-df-convert');\n",
              "        buttonEl.style.display =\n",
              "          google.colab.kernel.accessAllowed ? 'block' : 'none';\n",
              "\n",
              "        async function convertToInteractive(key) {\n",
              "          const element = document.querySelector('#df-526793be-68eb-4ebe-97e8-aea6d7d7c317');\n",
              "          const dataTable =\n",
              "            await google.colab.kernel.invokeFunction('convertToInteractive',\n",
              "                                                     [key], {});\n",
              "          if (!dataTable) return;\n",
              "\n",
              "          const docLinkHtml = 'Like what you see? Visit the ' +\n",
              "            '<a target=\"_blank\" href=https://colab.research.google.com/notebooks/data_table.ipynb>data table notebook</a>'\n",
              "            + ' to learn more about interactive tables.';\n",
              "          element.innerHTML = '';\n",
              "          dataTable['output_type'] = 'display_data';\n",
              "          await google.colab.output.renderOutput(dataTable, element);\n",
              "          const docLink = document.createElement('div');\n",
              "          docLink.innerHTML = docLinkHtml;\n",
              "          element.appendChild(docLink);\n",
              "        }\n",
              "      </script>\n",
              "    </div>\n",
              "  </div>\n",
              "  "
            ]
          },
          "metadata": {},
          "execution_count": 6
        }
      ]
    },
    {
      "cell_type": "markdown",
      "source": [
        "\n",
        "\n",
        "> Check nulls in column\n",
        "\n"
      ],
      "metadata": {
        "id": "H6c2xn5JnVpE"
      }
    },
    {
      "cell_type": "code",
      "source": [
        "dataset1.isnull().sum()"
      ],
      "metadata": {
        "colab": {
          "base_uri": "https://localhost:8080/"
        },
        "id": "m8k0KUGYfHAe",
        "outputId": "732e27f1-025d-468a-bbb2-0fea724a63ef"
      },
      "execution_count": null,
      "outputs": [
        {
          "output_type": "execute_result",
          "data": {
            "text/plain": [
              "Region/Country/Area    0\n",
              "Year                   0\n",
              "Series                 0\n",
              "Value                  0\n",
              "dtype: int64"
            ]
          },
          "metadata": {},
          "execution_count": 7
        }
      ]
    },
    {
      "cell_type": "markdown",
      "source": [
        "\n",
        "\n",
        "> Removing Duplicates\n",
        "\n"
      ],
      "metadata": {
        "id": "fm03sB9moFZv"
      }
    },
    {
      "cell_type": "code",
      "source": [
        "dupes = dataset1.duplicated()\n",
        "print(dupes[dupes == True])\n",
        "\n",
        "dataset1.drop_duplicates(inplace=True)\n",
        "dataset1.head(400)"
      ],
      "metadata": {
        "colab": {
          "base_uri": "https://localhost:8080/",
          "height": 1000
        },
        "id": "xGMMBTrZoEmx",
        "outputId": "dd88795a-9cd5-4dab-9abe-04b1c5f1a0e5"
      },
      "execution_count": null,
      "outputs": [
        {
          "output_type": "stream",
          "name": "stdout",
          "text": [
            "Series([], dtype: bool)\n"
          ]
        },
        {
          "output_type": "execute_result",
          "data": {
            "text/plain": [
              "    Region/Country/Area  Year  \\\n",
              "0    South-eastern Asia  2005   \n",
              "1    South-eastern Asia  2005   \n",
              "2    South-eastern Asia  2005   \n",
              "3    South-eastern Asia  2005   \n",
              "4    South-eastern Asia  2005   \n",
              "..                  ...   ...   \n",
              "393         Timor-Leste  2019   \n",
              "394         Timor-Leste  2019   \n",
              "395         Timor-Leste  2019   \n",
              "396         Timor-Leste  2019   \n",
              "397         Timor-Leste  2019   \n",
              "\n",
              "                                                Series   Value  \n",
              "0    Students enrolled in primary education (thousa...  68,253  \n",
              "1              Gross enrollment ratio - Primary (male)   106.8  \n",
              "2            Gross enrollment ratio - Primary (female)   103.8  \n",
              "3    Students enrolled in secondary education (thou...  40,815  \n",
              "4            Gross enrollment ratio - Secondary (male)    62.6  \n",
              "..                                                 ...     ...  \n",
              "393          Gross enrollment ratio - Secondary (male)    82.7  \n",
              "394        Gross enrollment ratio - Secondary (female)    90.5  \n",
              "395  Students enrolled in upper secondary education...      72  \n",
              "396  Gross enrollment ratio - Upper secondary level...    71.9  \n",
              "397  Gross enrollment ratio - Upper secondary level...    81.5  \n",
              "\n",
              "[398 rows x 4 columns]"
            ],
            "text/html": [
              "\n",
              "  <div id=\"df-9975c7b3-7dc6-428a-93d6-72274adbfba7\">\n",
              "    <div class=\"colab-df-container\">\n",
              "      <div>\n",
              "<style scoped>\n",
              "    .dataframe tbody tr th:only-of-type {\n",
              "        vertical-align: middle;\n",
              "    }\n",
              "\n",
              "    .dataframe tbody tr th {\n",
              "        vertical-align: top;\n",
              "    }\n",
              "\n",
              "    .dataframe thead th {\n",
              "        text-align: right;\n",
              "    }\n",
              "</style>\n",
              "<table border=\"1\" class=\"dataframe\">\n",
              "  <thead>\n",
              "    <tr style=\"text-align: right;\">\n",
              "      <th></th>\n",
              "      <th>Region/Country/Area</th>\n",
              "      <th>Year</th>\n",
              "      <th>Series</th>\n",
              "      <th>Value</th>\n",
              "    </tr>\n",
              "  </thead>\n",
              "  <tbody>\n",
              "    <tr>\n",
              "      <th>0</th>\n",
              "      <td>South-eastern Asia</td>\n",
              "      <td>2005</td>\n",
              "      <td>Students enrolled in primary education (thousa...</td>\n",
              "      <td>68,253</td>\n",
              "    </tr>\n",
              "    <tr>\n",
              "      <th>1</th>\n",
              "      <td>South-eastern Asia</td>\n",
              "      <td>2005</td>\n",
              "      <td>Gross enrollment ratio - Primary (male)</td>\n",
              "      <td>106.8</td>\n",
              "    </tr>\n",
              "    <tr>\n",
              "      <th>2</th>\n",
              "      <td>South-eastern Asia</td>\n",
              "      <td>2005</td>\n",
              "      <td>Gross enrollment ratio - Primary (female)</td>\n",
              "      <td>103.8</td>\n",
              "    </tr>\n",
              "    <tr>\n",
              "      <th>3</th>\n",
              "      <td>South-eastern Asia</td>\n",
              "      <td>2005</td>\n",
              "      <td>Students enrolled in secondary education (thou...</td>\n",
              "      <td>40,815</td>\n",
              "    </tr>\n",
              "    <tr>\n",
              "      <th>4</th>\n",
              "      <td>South-eastern Asia</td>\n",
              "      <td>2005</td>\n",
              "      <td>Gross enrollment ratio - Secondary (male)</td>\n",
              "      <td>62.6</td>\n",
              "    </tr>\n",
              "    <tr>\n",
              "      <th>...</th>\n",
              "      <td>...</td>\n",
              "      <td>...</td>\n",
              "      <td>...</td>\n",
              "      <td>...</td>\n",
              "    </tr>\n",
              "    <tr>\n",
              "      <th>393</th>\n",
              "      <td>Timor-Leste</td>\n",
              "      <td>2019</td>\n",
              "      <td>Gross enrollment ratio - Secondary (male)</td>\n",
              "      <td>82.7</td>\n",
              "    </tr>\n",
              "    <tr>\n",
              "      <th>394</th>\n",
              "      <td>Timor-Leste</td>\n",
              "      <td>2019</td>\n",
              "      <td>Gross enrollment ratio - Secondary (female)</td>\n",
              "      <td>90.5</td>\n",
              "    </tr>\n",
              "    <tr>\n",
              "      <th>395</th>\n",
              "      <td>Timor-Leste</td>\n",
              "      <td>2019</td>\n",
              "      <td>Students enrolled in upper secondary education...</td>\n",
              "      <td>72</td>\n",
              "    </tr>\n",
              "    <tr>\n",
              "      <th>396</th>\n",
              "      <td>Timor-Leste</td>\n",
              "      <td>2019</td>\n",
              "      <td>Gross enrollment ratio - Upper secondary level...</td>\n",
              "      <td>71.9</td>\n",
              "    </tr>\n",
              "    <tr>\n",
              "      <th>397</th>\n",
              "      <td>Timor-Leste</td>\n",
              "      <td>2019</td>\n",
              "      <td>Gross enrollment ratio - Upper secondary level...</td>\n",
              "      <td>81.5</td>\n",
              "    </tr>\n",
              "  </tbody>\n",
              "</table>\n",
              "<p>398 rows × 4 columns</p>\n",
              "</div>\n",
              "      <button class=\"colab-df-convert\" onclick=\"convertToInteractive('df-9975c7b3-7dc6-428a-93d6-72274adbfba7')\"\n",
              "              title=\"Convert this dataframe to an interactive table.\"\n",
              "              style=\"display:none;\">\n",
              "        \n",
              "  <svg xmlns=\"http://www.w3.org/2000/svg\" height=\"24px\"viewBox=\"0 0 24 24\"\n",
              "       width=\"24px\">\n",
              "    <path d=\"M0 0h24v24H0V0z\" fill=\"none\"/>\n",
              "    <path d=\"M18.56 5.44l.94 2.06.94-2.06 2.06-.94-2.06-.94-.94-2.06-.94 2.06-2.06.94zm-11 1L8.5 8.5l.94-2.06 2.06-.94-2.06-.94L8.5 2.5l-.94 2.06-2.06.94zm10 10l.94 2.06.94-2.06 2.06-.94-2.06-.94-.94-2.06-.94 2.06-2.06.94z\"/><path d=\"M17.41 7.96l-1.37-1.37c-.4-.4-.92-.59-1.43-.59-.52 0-1.04.2-1.43.59L10.3 9.45l-7.72 7.72c-.78.78-.78 2.05 0 2.83L4 21.41c.39.39.9.59 1.41.59.51 0 1.02-.2 1.41-.59l7.78-7.78 2.81-2.81c.8-.78.8-2.07 0-2.86zM5.41 20L4 18.59l7.72-7.72 1.47 1.35L5.41 20z\"/>\n",
              "  </svg>\n",
              "      </button>\n",
              "      \n",
              "  <style>\n",
              "    .colab-df-container {\n",
              "      display:flex;\n",
              "      flex-wrap:wrap;\n",
              "      gap: 12px;\n",
              "    }\n",
              "\n",
              "    .colab-df-convert {\n",
              "      background-color: #E8F0FE;\n",
              "      border: none;\n",
              "      border-radius: 50%;\n",
              "      cursor: pointer;\n",
              "      display: none;\n",
              "      fill: #1967D2;\n",
              "      height: 32px;\n",
              "      padding: 0 0 0 0;\n",
              "      width: 32px;\n",
              "    }\n",
              "\n",
              "    .colab-df-convert:hover {\n",
              "      background-color: #E2EBFA;\n",
              "      box-shadow: 0px 1px 2px rgba(60, 64, 67, 0.3), 0px 1px 3px 1px rgba(60, 64, 67, 0.15);\n",
              "      fill: #174EA6;\n",
              "    }\n",
              "\n",
              "    [theme=dark] .colab-df-convert {\n",
              "      background-color: #3B4455;\n",
              "      fill: #D2E3FC;\n",
              "    }\n",
              "\n",
              "    [theme=dark] .colab-df-convert:hover {\n",
              "      background-color: #434B5C;\n",
              "      box-shadow: 0px 1px 3px 1px rgba(0, 0, 0, 0.15);\n",
              "      filter: drop-shadow(0px 1px 2px rgba(0, 0, 0, 0.3));\n",
              "      fill: #FFFFFF;\n",
              "    }\n",
              "  </style>\n",
              "\n",
              "      <script>\n",
              "        const buttonEl =\n",
              "          document.querySelector('#df-9975c7b3-7dc6-428a-93d6-72274adbfba7 button.colab-df-convert');\n",
              "        buttonEl.style.display =\n",
              "          google.colab.kernel.accessAllowed ? 'block' : 'none';\n",
              "\n",
              "        async function convertToInteractive(key) {\n",
              "          const element = document.querySelector('#df-9975c7b3-7dc6-428a-93d6-72274adbfba7');\n",
              "          const dataTable =\n",
              "            await google.colab.kernel.invokeFunction('convertToInteractive',\n",
              "                                                     [key], {});\n",
              "          if (!dataTable) return;\n",
              "\n",
              "          const docLinkHtml = 'Like what you see? Visit the ' +\n",
              "            '<a target=\"_blank\" href=https://colab.research.google.com/notebooks/data_table.ipynb>data table notebook</a>'\n",
              "            + ' to learn more about interactive tables.';\n",
              "          element.innerHTML = '';\n",
              "          dataTable['output_type'] = 'display_data';\n",
              "          await google.colab.output.renderOutput(dataTable, element);\n",
              "          const docLink = document.createElement('div');\n",
              "          docLink.innerHTML = docLinkHtml;\n",
              "          element.appendChild(docLink);\n",
              "        }\n",
              "      </script>\n",
              "    </div>\n",
              "  </div>\n",
              "  "
            ]
          },
          "metadata": {},
          "execution_count": 8
        }
      ]
    },
    {
      "cell_type": "markdown",
      "source": [
        "  >Data Visulization for data set 1"
      ],
      "metadata": {
        "id": "QRkT7VCzu4uN"
      }
    },
    {
      "cell_type": "code",
      "source": [
        "plt.scatter(x = dataset1['Series'] ,y = dataset1['Value'])"
      ],
      "metadata": {
        "colab": {
          "base_uri": "https://localhost:8080/",
          "height": 282
        },
        "id": "KF8ea65BFT47",
        "outputId": "e7c9dfec-48ab-4740-fcc7-be7c889038a9"
      },
      "execution_count": null,
      "outputs": [
        {
          "output_type": "execute_result",
          "data": {
            "text/plain": [
              "<matplotlib.collections.PathCollection at 0x7fe7d4e86890>"
            ]
          },
          "metadata": {},
          "execution_count": 35
        },
        {
          "output_type": "display_data",
          "data": {
            "text/plain": [
              "<Figure size 432x288 with 1 Axes>"
            ],
            "image/png": "[encoded data removed]"
          },
          "metadata": {
            "needs_background": "light"
          }
        }
      ]
    },
    {
      "cell_type": "code",
      "source": [
        "plt.plot(dataset1['Value'])\n",
        "plt.plot(dataset1['Year'])\n",
        "\n",
        "plt.title(\"Data Visualization\")\n",
        "\n",
        "plt.xlabel('Value')\n",
        "plt.ylabel('Year')\n",
        "\n",
        "plt.show()"
      ],
      "metadata": {
        "colab": {
          "base_uri": "https://localhost:8080/",
          "height": 295
        },
        "id": "Wc7jPj-ZJYyA",
        "outputId": "bd363480-e6a0-4e48-ee1c-773bc429b365"
      },
      "execution_count": null,
      "outputs": [
        {
          "output_type": "display_data",
          "data": {
            "text/plain": [
              "<Figure size 432x288 with 1 Axes>"
            ],
            "image/png": "[encoded data removed]"
          },
          "metadata": {
            "needs_background": "light"
          }
        }
      ]
    },
    {
      "cell_type": "code",
      "source": [
        "dataset1['Year'].value_counts().plot(kind='pie', figsize = (8,8))"
      ],
      "metadata": {
        "id": "NOevrgxwQQqt",
        "outputId": "e0f7e928-1946-4d2c-c89a-9a740ce66cff",
        "colab": {
          "base_uri": "https://localhost:8080/",
          "height": 483
        }
      },
      "execution_count": null,
      "outputs": [
        {
          "output_type": "execute_result",
          "data": {
            "text/plain": [
              "<matplotlib.axes._subplots.AxesSubplot at 0x7fe7d6150bd0>"
            ]
          },
          "metadata": {},
          "execution_count": 37
        },
        {
          "output_type": "display_data",
          "data": {
            "text/plain": [
              "<Figure size 576x576 with 1 Axes>"
            ],
            "image/png": "[encoded data removed]"
          },
          "metadata": {}
        }
      ]
    },
    {
      "cell_type": "code",
      "source": [
        "plt.plot(dataset1.Series) \n",
        "plt.plot(dataset1.Value)"
      ],
      "metadata": {
        "colab": {
          "base_uri": "https://localhost:8080/",
          "height": 282
        },
        "id": "trgGKevFdhy-",
        "outputId": "6696f745-3286-485b-bfa2-6570d742c3cd"
      },
      "execution_count": null,
      "outputs": [
        {
          "output_type": "execute_result",
          "data": {
            "text/plain": [
              "[<matplotlib.lines.Line2D at 0x7fe7d34d9ed0>]"
            ]
          },
          "metadata": {},
          "execution_count": 49
        },
        {
          "output_type": "display_data",
          "data": {
            "text/plain": [
              "<Figure size 432x288 with 1 Axes>"
            ],
            "image/png": "[encoded data removed]"
          },
          "metadata": {
            "needs_background": "light"
          }
        }
      ]
    },
    {
      "cell_type": "code",
      "source": [
        "plt.plot(dataset1.Year)\n",
        "plt.xlabel('Value', fontsize = 12, fontweight = \"semibold\")\n",
        "plt.ylabel('Year', fontsize = 12, fontweight = \"semibold\")\n",
        "plt.title('Visualization', fontsize = 14, fontweight = \"semibold\")\n",
        "plt.show()"
      ],
      "metadata": {
        "id": "GlCmoPl9pKvC",
        "colab": {
          "base_uri": "https://localhost:8080/",
          "height": 299
        },
        "outputId": "8ec62987-2a3a-45d4-c521-20a90ac0f7ab"
      },
      "execution_count": null,
      "outputs": [
        {
          "output_type": "display_data",
          "data": {
            "text/plain": [
              "<Figure size 432x288 with 1 Axes>"
            ],
            "image/png": "[encoded data removed]"
          },
          "metadata": {
            "needs_background": "light"
          }
        }
      ]
    },
    {
      "cell_type": "code",
      "source": [
        "ph_vis = dataset1.loc[dataset1['Region/Country/Area'] == 'Philippines']\n",
        "\n",
        "a = np.array(ph_vis['Year'])\n",
        "\n",
        "plt.plot(a, c='#063c72')\n",
        "plt.title(\"Data Visualization\")\n",
        "plt.xlabel(\"Number of Education Attainment\")\n",
        "plt.ylabel(\"Year\")\n",
        "\n",
        "plt.show()"
      ],
      "metadata": {
        "colab": {
          "base_uri": "https://localhost:8080/",
          "height": 295
        },
        "id": "g8BaDuNjHndD",
        "outputId": "13de603a-2ef9-4afd-e95f-812f69f53cdc"
      },
      "execution_count": null,
      "outputs": [
        {
          "output_type": "display_data",
          "data": {
            "text/plain": [
              "<Figure size 432x288 with 1 Axes>"
            ],
            "image/png": "[encoded data removed]"
          },
          "metadata": {
            "needs_background": "light"
          }
        }
      ]
    },
    {
      "cell_type": "code",
      "source": [
        "\n",
        "import matplotlib.pyplot as plt\n",
        "\n",
        "plt.hist(dataset1['Year'])\n",
        "plt.title(\"Year\")\n",
        "\n",
        "(0.6, 1.0, 'Year')"
      ],
      "metadata": {
        "id": "VzT7Joqs4XO4",
        "colab": {
          "base_uri": "https://localhost:8080/",
          "height": 271
        },
        "outputId": "c9327e1e-9644-40fd-da9e-2f9fca0188f9"
      },
      "execution_count": null,
      "outputs": [
        {
          "output_type": "execute_result",
          "data": {
            "text/plain": [
              "(0.6, 1.0, 'Year')"
            ]
          },
          "metadata": {},
          "execution_count": 6
        },
        {
          "output_type": "display_data",
          "data": {
            "text/plain": [
              "<Figure size 432x288 with 1 Axes>"
            ],
            "image/png": "[encoded data removed]"
          },
          "metadata": {
            "needs_background": "light"
          }
        }
      ]
    }
  ]
}