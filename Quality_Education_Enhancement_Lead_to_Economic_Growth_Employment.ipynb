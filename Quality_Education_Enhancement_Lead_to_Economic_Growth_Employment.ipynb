{
  "nbformat": 4,
  "nbformat_minor": 0,
  "metadata": {
    "colab": {
      "name": "Quality Education Enhancement Lead to Economic Growth - Employment.ipynb",
      "provenance": [],
      "authorship_tag": "ABX9TyNlE7ijQbSPMKiilwZf8Rjy",
      "include_colab_link": true
    },
    "kernelspec": {
      "name": "python3",
      "display_name": "Python 3"
    },
    "language_info": {
      "name": "python"
    }
  },
  "cells": [
    {
      "cell_type": "markdown",
      "metadata": {
        "id": "view-in-github",
        "colab_type": "text"
      },
      "source": [
        "<a href=\"https://colab.research.google.com/github/suzettecomia/ITBA3206-The-Rising-Squad/blob/main/Quality_Education_Enhancement_Lead_to_Economic_Growth_Employment.ipynb\" target=\"_parent\"><img src=\"https://colab.research.google.com/assets/colab-badge.svg\" alt=\"Open In Colab\"/></a>"
      ]
    },
    {
      "cell_type": "markdown",
      "source": [
        "**Quality Education Enhancement Lead to Economic Growth - Employment**"
      ],
      "metadata": {
        "id": "MsgjXFYMeDNb"
      }
    },
    {
      "cell_type": "markdown",
      "source": [
        "**Datasets of Employment by Economic Activity**\n",
        "\n",
        "> Import libraries\n",
        "\n"
      ],
      "metadata": {
        "id": "5vkqNwUieWYp"
      }
    },
    {
      "cell_type": "code",
      "execution_count": 1,
      "metadata": {
        "id": "b6P89bpjd4vA"
      },
      "outputs": [],
      "source": [
        "import numpy as np\n",
        "import pandas as pd\n",
        "from google.colab import files\n",
        "import io\n",
        "import matplotlib.pyplot as plt\n",
        "from google.colab import data_table"
      ]
    },
    {
      "cell_type": "code",
      "source": [
        "url_employment = 'https://raw.githubusercontent.com/suzettecomia/ITBA3206-The-Rising-Squad/main/Datasets/Datasets_Employment_Updated.csv'"
      ],
      "metadata": {
        "id": "U_Xe65JzeTvp"
      },
      "execution_count": 2,
      "outputs": []
    },
    {
      "cell_type": "code",
      "source": [
        "dataset_employment = pd.read_csv(url_employment,encoding='latin-1')"
      ],
      "metadata": {
        "id": "vZUNzMSeed8B"
      },
      "execution_count": 3,
      "outputs": []
    },
    {
      "cell_type": "code",
      "source": [
        "dataset_employment.head(400)"
      ],
      "metadata": {
        "colab": {
          "base_uri": "https://localhost:8080/",
          "height": 424
        },
        "id": "YHu9P4H-eo4A",
        "outputId": "5027bfe8-c1cc-4d2e-9bc6-b7a236f52140"
      },
      "execution_count": 4,
      "outputs": [
        {
          "output_type": "execute_result",
          "data": {
            "text/plain": [
              "    Region/Country/Area  Year  \\\n",
              "0    South-eastern Asia  2005   \n",
              "1    South-eastern Asia  2005   \n",
              "2    South-eastern Asia  2005   \n",
              "3    South-eastern Asia  2005   \n",
              "4    South-eastern Asia  2005   \n",
              "..                  ...   ...   \n",
              "395         Timor-Leste  2020   \n",
              "396            Viet Nam  2005   \n",
              "397            Viet Nam  2005   \n",
              "398            Viet Nam  2005   \n",
              "399            Viet Nam  2005   \n",
              "\n",
              "                                                Series  Value  Footnotes  \\\n",
              "0    Employment by industry: Agriculture (%) Male a...   44.5  Estimate.   \n",
              "1    Employment by industry: Industry (%) Male and ...   18.9  Estimate.   \n",
              "2    Employment by industry: Services (%) Male and ...   36.7  Estimate.   \n",
              "3         Employment by industry: Agriculture (%) Male   45.0  Estimate.   \n",
              "4            Employment by industry: Industry (%) Male   20.7  Estimate.   \n",
              "..                                                 ...    ...        ...   \n",
              "395        Employment by industry: Services (%) Female   51.9  Estimate.   \n",
              "396  Employment by industry: Agriculture (%) Male a...   54.8  Estimate.   \n",
              "397  Employment by industry: Industry (%) Male and ...   18.8  Estimate.   \n",
              "398  Employment by industry: Services (%) Male and ...   26.4  Estimate.   \n",
              "399       Employment by industry: Agriculture (%) Male   52.8  Estimate.   \n",
              "\n",
              "                                                Source  \n",
              "0    International Labour Organization (ILO), Genev...  \n",
              "1    International Labour Organization (ILO), Genev...  \n",
              "2    International Labour Organization (ILO), Genev...  \n",
              "3    International Labour Organization (ILO), Genev...  \n",
              "4    International Labour Organization (ILO), Genev...  \n",
              "..                                                 ...  \n",
              "395  International Labour Organization (ILO), Genev...  \n",
              "396  International Labour Organization (ILO), Genev...  \n",
              "397  International Labour Organization (ILO), Genev...  \n",
              "398  International Labour Organization (ILO), Genev...  \n",
              "399  International Labour Organization (ILO), Genev...  \n",
              "\n",
              "[400 rows x 6 columns]"
            ],
            "text/html": [
              "\n",
              "  <div id=\"df-5098d6a5-896b-4304-8622-d9ef46717210\">\n",
              "    <div class=\"colab-df-container\">\n",
              "      <div>\n",
              "<style scoped>\n",
              "    .dataframe tbody tr th:only-of-type {\n",
              "        vertical-align: middle;\n",
              "    }\n",
              "\n",
              "    .dataframe tbody tr th {\n",
              "        vertical-align: top;\n",
              "    }\n",
              "\n",
              "    .dataframe thead th {\n",
              "        text-align: right;\n",
              "    }\n",
              "</style>\n",
              "<table border=\"1\" class=\"dataframe\">\n",
              "  <thead>\n",
              "    <tr style=\"text-align: right;\">\n",
              "      <th></th>\n",
              "      <th>Region/Country/Area</th>\n",
              "      <th>Year</th>\n",
              "      <th>Series</th>\n",
              "      <th>Value</th>\n",
              "      <th>Footnotes</th>\n",
              "      <th>Source</th>\n",
              "    </tr>\n",
              "  </thead>\n",
              "  <tbody>\n",
              "    <tr>\n",
              "      <th>0</th>\n",
              "      <td>South-eastern Asia</td>\n",
              "      <td>2005</td>\n",
              "      <td>Employment by industry: Agriculture (%) Male a...</td>\n",
              "      <td>44.5</td>\n",
              "      <td>Estimate.</td>\n",
              "      <td>International Labour Organization (ILO), Genev...</td>\n",
              "    </tr>\n",
              "    <tr>\n",
              "      <th>1</th>\n",
              "      <td>South-eastern Asia</td>\n",
              "      <td>2005</td>\n",
              "      <td>Employment by industry: Industry (%) Male and ...</td>\n",
              "      <td>18.9</td>\n",
              "      <td>Estimate.</td>\n",
              "      <td>International Labour Organization (ILO), Genev...</td>\n",
              "    </tr>\n",
              "    <tr>\n",
              "      <th>2</th>\n",
              "      <td>South-eastern Asia</td>\n",
              "      <td>2005</td>\n",
              "      <td>Employment by industry: Services (%) Male and ...</td>\n",
              "      <td>36.7</td>\n",
              "      <td>Estimate.</td>\n",
              "      <td>International Labour Organization (ILO), Genev...</td>\n",
              "    </tr>\n",
              "    <tr>\n",
              "      <th>3</th>\n",
              "      <td>South-eastern Asia</td>\n",
              "      <td>2005</td>\n",
              "      <td>Employment by industry: Agriculture (%) Male</td>\n",
              "      <td>45.0</td>\n",
              "      <td>Estimate.</td>\n",
              "      <td>International Labour Organization (ILO), Genev...</td>\n",
              "    </tr>\n",
              "    <tr>\n",
              "      <th>4</th>\n",
              "      <td>South-eastern Asia</td>\n",
              "      <td>2005</td>\n",
              "      <td>Employment by industry: Industry (%) Male</td>\n",
              "      <td>20.7</td>\n",
              "      <td>Estimate.</td>\n",
              "      <td>International Labour Organization (ILO), Genev...</td>\n",
              "    </tr>\n",
              "    <tr>\n",
              "      <th>...</th>\n",
              "      <td>...</td>\n",
              "      <td>...</td>\n",
              "      <td>...</td>\n",
              "      <td>...</td>\n",
              "      <td>...</td>\n",
              "      <td>...</td>\n",
              "    </tr>\n",
              "    <tr>\n",
              "      <th>395</th>\n",
              "      <td>Timor-Leste</td>\n",
              "      <td>2020</td>\n",
              "      <td>Employment by industry: Services (%) Female</td>\n",
              "      <td>51.9</td>\n",
              "      <td>Estimate.</td>\n",
              "      <td>International Labour Organization (ILO), Genev...</td>\n",
              "    </tr>\n",
              "    <tr>\n",
              "      <th>396</th>\n",
              "      <td>Viet Nam</td>\n",
              "      <td>2005</td>\n",
              "      <td>Employment by industry: Agriculture (%) Male a...</td>\n",
              "      <td>54.8</td>\n",
              "      <td>Estimate.</td>\n",
              "      <td>International Labour Organization (ILO), Genev...</td>\n",
              "    </tr>\n",
              "    <tr>\n",
              "      <th>397</th>\n",
              "      <td>Viet Nam</td>\n",
              "      <td>2005</td>\n",
              "      <td>Employment by industry: Industry (%) Male and ...</td>\n",
              "      <td>18.8</td>\n",
              "      <td>Estimate.</td>\n",
              "      <td>International Labour Organization (ILO), Genev...</td>\n",
              "    </tr>\n",
              "    <tr>\n",
              "      <th>398</th>\n",
              "      <td>Viet Nam</td>\n",
              "      <td>2005</td>\n",
              "      <td>Employment by industry: Services (%) Male and ...</td>\n",
              "      <td>26.4</td>\n",
              "      <td>Estimate.</td>\n",
              "      <td>International Labour Organization (ILO), Genev...</td>\n",
              "    </tr>\n",
              "    <tr>\n",
              "      <th>399</th>\n",
              "      <td>Viet Nam</td>\n",
              "      <td>2005</td>\n",
              "      <td>Employment by industry: Agriculture (%) Male</td>\n",
              "      <td>52.8</td>\n",
              "      <td>Estimate.</td>\n",
              "      <td>International Labour Organization (ILO), Genev...</td>\n",
              "    </tr>\n",
              "  </tbody>\n",
              "</table>\n",
              "<p>400 rows × 6 columns</p>\n",
              "</div>\n",
              "      <button class=\"colab-df-convert\" onclick=\"convertToInteractive('df-5098d6a5-896b-4304-8622-d9ef46717210')\"\n",
              "              title=\"Convert this dataframe to an interactive table.\"\n",
              "              style=\"display:none;\">\n",
              "        \n",
              "  <svg xmlns=\"http://www.w3.org/2000/svg\" height=\"24px\"viewBox=\"0 0 24 24\"\n",
              "       width=\"24px\">\n",
              "    <path d=\"M0 0h24v24H0V0z\" fill=\"none\"/>\n",
              "    <path d=\"M18.56 5.44l.94 2.06.94-2.06 2.06-.94-2.06-.94-.94-2.06-.94 2.06-2.06.94zm-11 1L8.5 8.5l.94-2.06 2.06-.94-2.06-.94L8.5 2.5l-.94 2.06-2.06.94zm10 10l.94 2.06.94-2.06 2.06-.94-2.06-.94-.94-2.06-.94 2.06-2.06.94z\"/><path d=\"M17.41 7.96l-1.37-1.37c-.4-.4-.92-.59-1.43-.59-.52 0-1.04.2-1.43.59L10.3 9.45l-7.72 7.72c-.78.78-.78 2.05 0 2.83L4 21.41c.39.39.9.59 1.41.59.51 0 1.02-.2 1.41-.59l7.78-7.78 2.81-2.81c.8-.78.8-2.07 0-2.86zM5.41 20L4 18.59l7.72-7.72 1.47 1.35L5.41 20z\"/>\n",
              "  </svg>\n",
              "      </button>\n",
              "      \n",
              "  <style>\n",
              "    .colab-df-container {\n",
              "      display:flex;\n",
              "      flex-wrap:wrap;\n",
              "      gap: 12px;\n",
              "    }\n",
              "\n",
              "    .colab-df-convert {\n",
              "      background-color: #E8F0FE;\n",
              "      border: none;\n",
              "      border-radius: 50%;\n",
              "      cursor: pointer;\n",
              "      display: none;\n",
              "      fill: #1967D2;\n",
              "      height: 32px;\n",
              "      padding: 0 0 0 0;\n",
              "      width: 32px;\n",
              "    }\n",
              "\n",
              "    .colab-df-convert:hover {\n",
              "      background-color: #E2EBFA;\n",
              "      box-shadow: 0px 1px 2px rgba(60, 64, 67, 0.3), 0px 1px 3px 1px rgba(60, 64, 67, 0.15);\n",
              "      fill: #174EA6;\n",
              "    }\n",
              "\n",
              "    [theme=dark] .colab-df-convert {\n",
              "      background-color: #3B4455;\n",
              "      fill: #D2E3FC;\n",
              "    }\n",
              "\n",
              "    [theme=dark] .colab-df-convert:hover {\n",
              "      background-color: #434B5C;\n",
              "      box-shadow: 0px 1px 3px 1px rgba(0, 0, 0, 0.15);\n",
              "      filter: drop-shadow(0px 1px 2px rgba(0, 0, 0, 0.3));\n",
              "      fill: #FFFFFF;\n",
              "    }\n",
              "  </style>\n",
              "\n",
              "      <script>\n",
              "        const buttonEl =\n",
              "          document.querySelector('#df-5098d6a5-896b-4304-8622-d9ef46717210 button.colab-df-convert');\n",
              "        buttonEl.style.display =\n",
              "          google.colab.kernel.accessAllowed ? 'block' : 'none';\n",
              "\n",
              "        async function convertToInteractive(key) {\n",
              "          const element = document.querySelector('#df-5098d6a5-896b-4304-8622-d9ef46717210');\n",
              "          const dataTable =\n",
              "            await google.colab.kernel.invokeFunction('convertToInteractive',\n",
              "                                                     [key], {});\n",
              "          if (!dataTable) return;\n",
              "\n",
              "          const docLinkHtml = 'Like what you see? Visit the ' +\n",
              "            '<a target=\"_blank\" href=https://colab.research.google.com/notebooks/data_table.ipynb>data table notebook</a>'\n",
              "            + ' to learn more about interactive tables.';\n",
              "          element.innerHTML = '';\n",
              "          dataTable['output_type'] = 'display_data';\n",
              "          await google.colab.output.renderOutput(dataTable, element);\n",
              "          const docLink = document.createElement('div');\n",
              "          docLink.innerHTML = docLinkHtml;\n",
              "          element.appendChild(docLink);\n",
              "        }\n",
              "      </script>\n",
              "    </div>\n",
              "  </div>\n",
              "  "
            ]
          },
          "metadata": {},
          "execution_count": 4
        }
      ]
    },
    {
      "cell_type": "markdown",
      "source": [
        "**Data Cleaning**\n",
        "\n",
        "> Dropping unnecessary columns\n",
        "\n"
      ],
      "metadata": {
        "id": "sKKwXWhcfePR"
      }
    },
    {
      "cell_type": "code",
      "source": [
        ""
      ],
      "metadata": {
        "id": "jvGGYMG-fdiY"
      },
      "execution_count": null,
      "outputs": []
    }
  ]
}